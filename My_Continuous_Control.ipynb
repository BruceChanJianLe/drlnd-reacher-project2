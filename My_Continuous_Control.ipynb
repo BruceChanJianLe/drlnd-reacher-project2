{
 "cells": [
  {
   "cell_type": "markdown",
   "metadata": {},
   "source": [
    "# Continuous Control\n",
    "\n",
    "---\n",
    "\n",
    "You are welcome to use this coding environment to train your agent for the project.  Follow the instructions below to get started!\n",
    "\n",
    "### 1. Start the Environment\n",
    "\n",
    "Run the next code cell to install a few packages.  This line will take a few minutes to run!"
   ]
  },
  {
   "cell_type": "code",
   "execution_count": 1,
   "metadata": {},
   "outputs": [
    {
     "name": "stdout",
     "output_type": "stream",
     "text": [
      "\u001b[31mtensorflow 1.7.1 has requirement numpy>=1.13.3, but you'll have numpy 1.12.1 which is incompatible.\u001b[0m\r\n",
      "\u001b[31mipython 6.5.0 has requirement prompt-toolkit<2.0.0,>=1.0.15, but you'll have prompt-toolkit 3.0.8 which is incompatible.\u001b[0m\r\n"
     ]
    }
   ],
   "source": [
    "!pip -q install ./python"
   ]
  },
  {
   "cell_type": "markdown",
   "metadata": {},
   "source": [
    "The environments corresponding to both versions of the environment are already saved in the Workspace and can be accessed at the file paths provided below.  \n",
    "\n",
    "Please select one of the two options below for loading the environment."
   ]
  },
  {
   "cell_type": "code",
   "execution_count": 2,
   "metadata": {},
   "outputs": [
    {
     "name": "stderr",
     "output_type": "stream",
     "text": [
      "INFO:unityagents:\n",
      "'Academy' started successfully!\n",
      "Unity Academy name: Academy\n",
      "        Number of Brains: 1\n",
      "        Number of External Brains : 1\n",
      "        Lesson number : 0\n",
      "        Reset Parameters :\n",
      "\t\tgoal_size -> 5.0\n",
      "\t\tgoal_speed -> 1.0\n",
      "Unity brain name: ReacherBrain\n",
      "        Number of Visual Observations (per agent): 0\n",
      "        Vector Observation space type: continuous\n",
      "        Vector Observation space size (per agent): 33\n",
      "        Number of stacked Vector Observation: 1\n",
      "        Vector Action space type: continuous\n",
      "        Vector Action space size (per agent): 4\n",
      "        Vector Action descriptions: , , , \n"
     ]
    }
   ],
   "source": [
    "from unityagents import UnityEnvironment\n",
    "import numpy as np\n",
    "\n",
    "# select version 1 (with a single agent) of the environment\n",
    "env = UnityEnvironment(file_name='/data/Reacher_One_Linux_NoVis/Reacher_One_Linux_NoVis.x86_64')\n"
   ]
  },
  {
   "cell_type": "markdown",
   "metadata": {},
   "source": [
    "Environments contain **_brains_** which are responsible for deciding the actions of their associated agents. Here we check for the first brain available, and set it as the default brain we will be controlling from Python."
   ]
  },
  {
   "cell_type": "code",
   "execution_count": 3,
   "metadata": {},
   "outputs": [],
   "source": [
    "# get the default brain\n",
    "brain_name = env.brain_names[0]\n",
    "brain = env.brains[brain_name]"
   ]
  },
  {
   "cell_type": "markdown",
   "metadata": {},
   "source": [
    "### 2. Examine the State and Action Spaces\n",
    "\n",
    "Run the code cell below to print some information about the environment."
   ]
  },
  {
   "cell_type": "code",
   "execution_count": 4,
   "metadata": {},
   "outputs": [
    {
     "name": "stdout",
     "output_type": "stream",
     "text": [
      "Number of agents: 1\n",
      "Size of each action: 4\n",
      "There are 1 agents. Each observes a state with length: 33\n",
      "The state for the first agent looks like: [  0.00000000e+00  -4.00000000e+00   0.00000000e+00   1.00000000e+00\n",
      "  -0.00000000e+00  -0.00000000e+00  -4.37113883e-08   0.00000000e+00\n",
      "   0.00000000e+00   0.00000000e+00   0.00000000e+00   0.00000000e+00\n",
      "   0.00000000e+00   0.00000000e+00  -1.00000000e+01   0.00000000e+00\n",
      "   1.00000000e+00  -0.00000000e+00  -0.00000000e+00  -4.37113883e-08\n",
      "   0.00000000e+00   0.00000000e+00   0.00000000e+00   0.00000000e+00\n",
      "   0.00000000e+00   0.00000000e+00   5.75471878e+00  -1.00000000e+00\n",
      "   5.55726671e+00   0.00000000e+00   1.00000000e+00   0.00000000e+00\n",
      "  -1.68164849e-01]\n"
     ]
    }
   ],
   "source": [
    "# reset the environment\n",
    "env_info = env.reset(train_mode=True)[brain_name]\n",
    "\n",
    "# number of agents\n",
    "num_agents = len(env_info.agents)\n",
    "print('Number of agents:', num_agents)\n",
    "\n",
    "# size of each action\n",
    "action_size = brain.vector_action_space_size\n",
    "print('Size of each action:', action_size)\n",
    "\n",
    "# examine the state space \n",
    "states = env_info.vector_observations\n",
    "state_size = states.shape[1]\n",
    "print('There are {} agents. Each observes a state with length: {}'.format(states.shape[0], state_size))\n",
    "print('The state for the first agent looks like:', states[0])\n",
    "\n",
    "# Useful Functions\n",
    "\n",
    "def act(env, actions, brain_name=\"ReacherBrain\") -> tuple:\n",
    "    \"\"\"Sends actions to the environment env and observes the results.\n",
    "    Returns a tuple of rewards, next_states, dones (One per agent)\"\"\"\n",
    "    action_result = env.step(actions)[brain_name] # Act on the environment and observe the result\n",
    "    return (action_result.rewards,\n",
    "            action_result.vector_observations, # next states\n",
    "            action_result.local_done) # True if the episode ended\n",
    "    \n",
    "def reset(env, training=True, brain_name=\"ReacherBrain\") -> np.ndarray:\n",
    "    \"\"\"Resetting the unity environment\"\"\"\n",
    "    return env.reset(train_mode=training)[brain_name].vector_observations"
   ]
  },
  {
   "cell_type": "markdown",
   "metadata": {},
   "source": [
    "### 3. Ready for training\n",
    "\n",
    "In the next code cell, we shall start our preparation for training\n",
    "\n",
    "Note that **in this coding environment, you will not be able to watch the agents while they are training**, and you should set `train_mode=True` to restart the environment."
   ]
  },
  {
   "cell_type": "code",
   "execution_count": 5,
   "metadata": {},
   "outputs": [],
   "source": [
    "# Invite our agent & import torch\n",
    "from ddpg_agent import Agent\n",
    "import torch"
   ]
  },
  {
   "cell_type": "code",
   "execution_count": 6,
   "metadata": {},
   "outputs": [],
   "source": [
    "def train2(agent, env, num_episodes, log_freq, max_t=20000):        \n",
    "    score_hist = np.zeros((num_agents, 1))\n",
    "    \n",
    "    # Train\n",
    "    for i in range(num_episodes):\n",
    "        states = reset(env)\n",
    "        scores = np.zeros(num_agents)\n",
    "        for j in range(max_t): # Safer than while\n",
    "            # Decide\n",
    "            #state = states.squeeze() # One agent only\n",
    "            actions = agent.act(states)  # Choose an action based on the state\n",
    "            #actions = np.expand_dims(action, 0) # One agent only\n",
    "            # Act\n",
    "            rewards, next_states, dones = act(env, actions)     # Send the actions to the environment\n",
    "            scores += rewards                         # update the score (for each agent)\n",
    "            # Learn\n",
    "            agent.step(states, actions, rewards[0], next_states[0], dones[0]) # Learn step\n",
    "            # Step\n",
    "            states = next_states                               # roll over states to next time step\n",
    "            # Exit\n",
    "            if np.any(dones):                                  # exit loop if episode finished\n",
    "                break       \n",
    "        # Logging\n",
    "        score_hist = np.concatenate((score_hist, scores[:, None]), axis=1)\n",
    "        if (i % log_freq == 0) and (i > 0):\n",
    "            print(f'Average score of episodes {i-log_freq+1}-{i+1}: {np.mean(score_hist.squeeze()[-log_freq:])}')\n",
    "        \n",
    "        if np.mean(score_hist.squeeze()[-100:]) >= 30:\n",
    "            print(f'Solved in {i} steps!')\n",
    "            break\n",
    "            \n",
    "    return score_hist.squeeze()\n",
    "\n",
    "def train(agent, env, num_episodes, log_freq, max_t=20000):        \n",
    "    score_hist = np.zeros((num_agents, 1))\n",
    "    \n",
    "    # Train\n",
    "    for i in range(num_episodes):\n",
    "        states = reset(env)\n",
    "        agent.reset()\n",
    "        scores = np.zeros(num_agents)\n",
    "        for j in range(max_t): # Safer than while\n",
    "            # Decide\n",
    "            #state = states.squeeze() # One agent only\n",
    "            actions = agent.act(states)  # Choose an action based on the state\n",
    "            #actions = np.expand_dims(action, 0) # One agent only\n",
    "            # Act\n",
    "            rewards, next_states, dones = act(env, actions)     # Send the actions to the environment\n",
    "            scores += rewards                         # update the score (for each agent)\n",
    "            # Learn\n",
    "            agent.step(states, actions, rewards[0], next_states[0], dones[0]) # Learn step\n",
    "            # Step\n",
    "            states = next_states                               # roll over states to next time step\n",
    "            # Exit\n",
    "            if np.any(dones):                                  # exit loop if episode finished\n",
    "                break       \n",
    "        # Logging\n",
    "        score_hist = np.concatenate((score_hist, scores[:, None]), axis=1)\n",
    "        if (i % log_freq == 0) and (i > 0):\n",
    "            print(f'Average score of episodes {i-log_freq+1}-{i+1}: {np.mean(score_hist.squeeze()[-log_freq:])}')\n",
    "        \n",
    "        if np.mean(score_hist.squeeze()[-100:]) >= 30:\n",
    "            print(f'Solved in {i} steps!')\n",
    "            break\n",
    "            \n",
    "    return score_hist.squeeze()"
   ]
  },
  {
   "cell_type": "markdown",
   "metadata": {},
   "source": [
    "Train Now!"
   ]
  },
  {
   "cell_type": "code",
   "execution_count": 7,
   "metadata": {
    "scrolled": true
   },
   "outputs": [
    {
     "name": "stdout",
     "output_type": "stream",
     "text": [
      "Average score of episodes 1-11: 0.8929999800398946\n",
      "Average score of episodes 11-21: 1.1369999745860695\n",
      "Average score of episodes 21-31: 1.2379999723285438\n",
      "Average score of episodes 31-41: 2.428999945707619\n",
      "Average score of episodes 41-51: 2.3449999475851655\n",
      "Average score of episodes 51-61: 3.5679999202489854\n",
      "Average score of episodes 61-71: 2.597999941930175\n",
      "Average score of episodes 71-81: 3.129999930039048\n",
      "Average score of episodes 81-91: 4.038999909721315\n",
      "Average score of episodes 91-101: 3.9009999128058555\n",
      "Average score of episodes 101-111: 4.999999888241291\n",
      "Average score of episodes 111-121: 5.176999884285033\n",
      "Average score of episodes 121-131: 4.644999896176159\n",
      "Average score of episodes 131-141: 5.20199988372624\n",
      "Average score of episodes 141-151: 8.695999805629253\n",
      "Average score of episodes 151-161: 8.05499981995672\n",
      "Average score of episodes 161-171: 11.484999743290246\n",
      "Average score of episodes 171-181: 9.27199979275465\n",
      "Average score of episodes 181-191: 13.219999704509974\n",
      "Average score of episodes 191-201: 12.144999728538096\n",
      "Average score of episodes 201-211: 13.636999695189298\n",
      "Average score of episodes 211-221: 14.16299968343228\n",
      "Average score of episodes 221-231: 15.252999659068882\n",
      "Average score of episodes 231-241: 15.880999645031988\n",
      "Average score of episodes 241-251: 20.003999552875758\n",
      "Average score of episodes 251-261: 18.307999590784313\n",
      "Average score of episodes 261-271: 19.07899957355112\n",
      "Average score of episodes 271-281: 23.032999485172333\n",
      "Average score of episodes 281-291: 22.11999950557947\n",
      "Average score of episodes 291-301: 23.233999480679632\n",
      "Average score of episodes 301-311: 23.472999475337566\n",
      "Average score of episodes 311-321: 25.726999424956738\n",
      "Average score of episodes 321-331: 24.513999452069402\n",
      "Average score of episodes 331-341: 27.371999388188122\n",
      "Average score of episodes 341-351: 24.25799945779145\n",
      "Average score of episodes 351-361: 26.77299940157682\n",
      "Average score of episodes 361-371: 26.33999941125512\n",
      "Average score of episodes 371-381: 25.488999430276454\n",
      "Average score of episodes 381-391: 26.240999413467943\n",
      "Average score of episodes 391-401: 29.35499934386462\n",
      "Average score of episodes 401-411: 32.62799927070737\n",
      "Average score of episodes 411-421: 34.05199923887849\n",
      "Average score of episodes 421-431: 31.060999305732548\n",
      "Average score of episodes 431-441: 31.10499930474907\n",
      "Average score of episodes 441-451: 32.903999264538285\n",
      "Solved in 456 steps!\n"
     ]
    }
   ],
   "source": [
    "agent = Agent(state_size, action_size, np.random.randint(1e5))\n",
    "score_hist = train(agent, env, num_episodes=500, log_freq=10)"
   ]
  },
  {
   "cell_type": "markdown",
   "metadata": {},
   "source": [
    "## Plot"
   ]
  },
  {
   "cell_type": "code",
   "execution_count": 8,
   "metadata": {},
   "outputs": [],
   "source": [
    "from matplotlib import pyplot as plt"
   ]
  },
  {
   "cell_type": "code",
   "execution_count": 9,
   "metadata": {},
   "outputs": [],
   "source": [
    "def moving_average(signal:np.ndarray , period: int):\n",
    "    buffer = [np.nan] * period\n",
    "    for i in range(period,len(signal)):\n",
    "        buffer.append(signal[i-period:i].mean())\n",
    "    return np.array(buffer)"
   ]
  },
  {
   "cell_type": "code",
   "execution_count": 10,
   "metadata": {},
   "outputs": [
    {
     "data": {
      "text/plain": [
       "(0, 300)"
      ]
     },
     "execution_count": 10,
     "metadata": {},
     "output_type": "execute_result"
    },
    {
     "data": {
      "image/png": "[encoded data removed]",
      "text/plain": [
       "<matplotlib.figure.Figure at 0x7f43ab472e10>"
      ]
     },
     "metadata": {
      "needs_background": "light"
     },
     "output_type": "display_data"
    }
   ],
   "source": [
    "length = 100\n",
    "avg_scores = moving_average(score_hist, length)\n",
    "plt.figure(figsize=(8,5))\n",
    "plt.plot(avg_scores, label='avg_scores')\n",
    "plt.hlines(30, xmin=0, xmax=300, colors='r', label='solved')\n",
    "plt.grid()\n",
    "plt.xlabel('#Episode')\n",
    "plt.ylabel('Avg. score')\n",
    "plt.title(f'Avg. score over {length} episodes')\n",
    "plt.legend(loc='lower right')\n",
    "plt.xlim((0, 300))"
   ]
  },
  {
   "cell_type": "markdown",
   "metadata": {},
   "source": [
    "## Save My Weights"
   ]
  },
  {
   "cell_type": "code",
   "execution_count": 14,
   "metadata": {},
   "outputs": [],
   "source": [
    "from datetime import datetime\n",
    "def save_agent(agent, avg_scores=None):\n",
    "    \"\"\"Saves the agent's parameters and the underlying pytorch model\"\"\"\n",
    "    checkpoint = {'actor_state_dict': agent.actor_local.state_dict(),\n",
    "                  'critic_state_dict': agent.critic_local.state_dict(),\n",
    "                  'score_hist': score_hist}\n",
    "            \n",
    "    torch.save(checkpoint, 'my_weights.pth')"
   ]
  },
  {
   "cell_type": "code",
   "execution_count": 15,
   "metadata": {},
   "outputs": [],
   "source": [
    "save_agent(agent, avg_scores=avg_scores)"
   ]
  },
  {
   "cell_type": "markdown",
   "metadata": {},
   "source": [
    "When finished, you can close the environment."
   ]
  },
  {
   "cell_type": "code",
   "execution_count": 16,
   "metadata": {},
   "outputs": [],
   "source": [
    "env.close()"
   ]
  },
  {
   "cell_type": "markdown",
   "metadata": {},
   "source": [
    "### 4. It's Your Turn!\n",
    "\n",
    "Now it's your turn to train your own agent to solve the environment!  A few **important notes**:\n",
    "- When training the environment, set `train_mode=True`, so that the line for resetting the environment looks like the following:\n",
    "```python\n",
    "env_info = env.reset(train_mode=True)[brain_name]\n",
    "```\n",
    "- To structure your work, you're welcome to work directly in this Jupyter notebook, or you might like to start over with a new file!  You can see the list of files in the workspace by clicking on **_Jupyter_** in the top left corner of the notebook.\n",
    "- In this coding environment, you will not be able to watch the agents while they are training.  However, **_after training the agents_**, you can download the saved model weights to watch the agents on your own machine! "
   ]
  }
 ],
 "metadata": {
  "kernelspec": {
   "display_name": "Python 3",
   "language": "python",
   "name": "python3"
  },
  "language_info": {
   "codemirror_mode": {
    "name": "ipython",
    "version": 3
   },
   "file_extension": ".py",
   "mimetype": "text/x-python",
   "name": "python",
   "nbconvert_exporter": "python",
   "pygments_lexer": "ipython3",
   "version": "3.6.3"
  }
 },
 "nbformat": 4,
 "nbformat_minor": 2
}